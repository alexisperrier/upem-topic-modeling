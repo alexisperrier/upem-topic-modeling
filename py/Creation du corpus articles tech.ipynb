{
 "cells": [
  {
   "cell_type": "markdown",
   "metadata": {},
   "source": [
    "# Création du corpus \n",
    "\n",
    "Ce script en python permet de creer un corpus d'articles a partir d'une liste de fils rss.\n",
    "\n",
    "Nous utilisons: \n",
    "\n",
    "* la librarie feedparser pour obtenir les contenus\n",
    "* une dataframe pandas pour stocker les textes\n",
    "\n",
    "et nous exportons le tout dans un fichier csv\n",
    "\n",
    "Ce notebook jupyter tourne avec python 3.6.\n",
    "\n",
    "La distribution anaconda contient pandas. Pour installer feedparser: \n",
    "\n",
    "    conda install feedparser\n",
    "\n",
    "\n",
    "Créé le 3 Juin 2017"
   ]
  },
  {
   "cell_type": "code",
   "execution_count": 2,
   "metadata": {},
   "outputs": [],
   "source": [
    "# Importer les modules\n",
    "import feedparser\n",
    "import pandas as pd\n",
    "import csv\n",
    "\n",
    "# dictionnaire de urls de fils rss:\n",
    "# url => 'journal, sujet'\n",
    "feeds = {\n",
    "    'http://spectrum.ieee.org/rss/blog/energywise/fulltext':'ieee energywise',\n",
    "    'http://spectrum.ieee.org/rss/blog/cars-that-think/fulltext':'ieee cars',\n",
    "    'http://spectrum.ieee.org/rss/blog/the-human-os/fulltext':'ieee human-os',\n",
    "    'http://spectrum.ieee.org/rss/blog/riskfactor/fulltext':'ieee risks',\n",
    "    'http://spectrum.ieee.org/rss/blog/nanoclast/fulltext':'ieee nano',\n",
    "    'http://spectrum.ieee.org/rss/blog/tech-talk/fulltext':'ieee techtalk',\n",
    "    'http://spectrum.ieee.org/rss/blog/view-from-the-valley/fulltext':'ieee valley',\n",
    "    'http://spectrum.ieee.org/rss/aerospace/fulltext':'ieee aerospace',\n",
    "    'http://spectrum.ieee.org/rss/at-work/fulltext':'ieee atwork',\n",
    "    'http://spectrum.ieee.org/rss/blog/automaton/fulltext':'ieee automaton',\n",
    "    'http://feeds.arstechnica.com/arstechnica/technology-lab':'arstechnica techlab',\n",
    "    'http://feeds.arstechnica.com/arstechnica/gadgets':'arstechnica gadgets',\n",
    "    'http://feeds.arstechnica.com/arstechnica/business':'arstechnica business',\n",
    "    'http://feeds.arstechnica.com/arstechnica/security':'arstechnica security',\n",
    "    'http://feeds.arstechnica.com/arstechnica/tech-policy':'arstechnica tech-policy',\n",
    "    'http://feeds.arstechnica.com/arstechnica/apple':'arstechnica apple',\n",
    "    'http://feeds.arstechnica.com/arstechnica/gaming':'arstechnica gaming',\n",
    "    'http://feeds.arstechnica.com/arstechnica/science':'arstechnica science',\n",
    "    'http://feeds.arstechnica.com/arstechnica/multiverse':'arstechnica multiverse',\n",
    "    'http://feeds.arstechnica.com/arstechnica/cars':'arstechnica cars',\n",
    "    'http://feeds.arstechnica.com/arstechnica/staff-blogs':'arstechnica staff',\n",
    "}\n"
   ]
  },
  {
   "cell_type": "code",
   "execution_count": 3,
   "metadata": {},
   "outputs": [
    {
     "name": "stdout",
     "output_type": "stream",
     "text": [
      "75 entrées pour ieee energywise\n",
      "75 entrées pour ieee cars\n",
      "75 entrées pour ieee human-os\n",
      "40 entrées pour ieee risks\n",
      "75 entrées pour ieee nano\n",
      "75 entrées pour ieee techtalk\n",
      "75 entrées pour ieee valley\n",
      "75 entrées pour ieee aerospace\n",
      "75 entrées pour ieee atwork\n",
      "75 entrées pour ieee automaton\n",
      "20 entrées pour arstechnica techlab\n",
      "20 entrées pour arstechnica gadgets\n",
      "20 entrées pour arstechnica business\n",
      "20 entrées pour arstechnica security\n",
      "20 entrées pour arstechnica tech-policy\n",
      "20 entrées pour arstechnica apple\n",
      "20 entrées pour arstechnica gaming\n",
      "20 entrées pour arstechnica science\n",
      "20 entrées pour arstechnica multiverse\n",
      "20 entrées pour arstechnica cars\n",
      "20 entrées pour arstechnica staff\n"
     ]
    }
   ],
   "source": [
    "# Création de la Pandas DataFrame\n",
    "docs = pd.DataFrame(columns = ['rubrique', 'journal', 'content', ])\n",
    "\n",
    "# Boucle sur les url RSS et construction de la DataFrame\n",
    "i = 0\n",
    "for rss, subject in feeds.items():\n",
    "    # chargement des textes\n",
    "    llog = feedparser.parse(rss)\n",
    "\n",
    "    print(\"%d entrées pour %s\" % (len(llog.entries), subject) )\n",
    "    for entry in llog.entries:\n",
    "        docs.loc[i,'journal']   = subject.split(' ')[0]\n",
    "        docs.loc[i,'rubrique']  = subject.split(' ')[1]\n",
    "\n",
    "        # simple nettoyage: on remplace certains caracteres par des blancs\n",
    "        docs.loc[i,'content']   = entry.content[0].value.replace('\\xa0',' ').replace('\"',\"'\").replace('-',\" \")\n",
    "        i +=1\n",
    "\n",
    "# Sauvegarde de la dataframe dans un fichier CSV\n",
    "docs.to_csv('../data/techno.csv',index=False, quoting = csv.QUOTE_ALL)\n"
   ]
  },
  {
   "cell_type": "code",
   "execution_count": null,
   "metadata": {
    "collapsed": true
   },
   "outputs": [],
   "source": []
  }
 ],
 "metadata": {
  "kernelspec": {
   "display_name": "Python 3",
   "language": "python",
   "name": "python3"
  },
  "language_info": {
   "codemirror_mode": {
    "name": "ipython",
    "version": 3
   },
   "file_extension": ".py",
   "mimetype": "text/x-python",
   "name": "python",
   "nbconvert_exporter": "python",
   "pygments_lexer": "ipython3",
   "version": "3.6.1"
  }
 },
 "nbformat": 4,
 "nbformat_minor": 2
}
